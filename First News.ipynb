{
 "cells": [
  {
   "cell_type": "code",
   "execution_count": 1,
   "id": "a991970a",
   "metadata": {},
   "outputs": [
    {
     "name": "stdout",
     "output_type": "stream",
     "text": [
      "hello\n"
     ]
    }
   ],
   "source": [
    "print(\"nhập số 1: \")"
   ]
  },
  {
   "cell_type": "code",
   "execution_count": 4,
   "id": "67536dae",
   "metadata": {},
   "outputs": [
    {
     "name": "stdout",
     "output_type": "stream",
     "text": [
      "nhập số 1: \n",
      "4\n",
      "nhập số 2: \n",
      "7\n",
      "tổng là 11\n"
     ]
    }
   ],
   "source": [
    "print(\"nhập số 1: \")\n",
    "so1= int(input())\n",
    "print(\"nhập số 2: \")\n",
    "so2= int(input())\n",
    "tong= so1 + so2\n",
    "print('tổng là', tong)"
   ]
  },
  {
   "cell_type": "code",
   "execution_count": null,
   "id": "832c45aa",
   "metadata": {},
   "outputs": [],
   "source": []
  }
 ],
 "metadata": {
  "kernelspec": {
   "display_name": "Python 3 (ipykernel)",
   "language": "python",
   "name": "python3"
  },
  "language_info": {
   "codemirror_mode": {
    "name": "ipython",
    "version": 3
   },
   "file_extension": ".py",
   "mimetype": "text/x-python",
   "name": "python",
   "nbconvert_exporter": "python",
   "pygments_lexer": "ipython3",
   "version": "3.9.13"
  }
 },
 "nbformat": 4,
 "nbformat_minor": 5
}
